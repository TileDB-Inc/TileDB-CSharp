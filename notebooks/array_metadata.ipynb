{
 "cells": [
  {
   "cell_type": "markdown",
   "metadata": {},
   "source": [
    "# Install TileDB.CSharp"
   ]
  },
  {
   "cell_type": "code",
   "execution_count": null,
   "metadata": {
    "dotnet_interactive": {
     "language": "csharp"
    }
   },
   "outputs": [],
   "source": [
    "#r \"nuget:TileDB.CSharp\""
   ]
  },
  {
   "cell_type": "markdown",
   "metadata": {},
   "source": [
    "# Create an array"
   ]
  },
  {
   "cell_type": "code",
   "execution_count": null,
   "metadata": {
    "dotnet_interactive": {
     "language": "csharp"
    }
   },
   "outputs": [],
   "source": [
    "using TileDB.CSharp;\n",
    "var ctx = TileDB.CSharp.Context.GetDefault();\n",
    "var dom = new TileDB.CSharp.Domain(ctx);\n",
    "var dim1 = TileDB.CSharp.Dimension.Create<int>(ctx,\"rows\",1,4,4);\n",
    "var dim2 = TileDB.CSharp.Dimension.Create<int>(ctx,\"cols\",1,4,4);\n",
    "dom.AddDimension(dim1);\n",
    "dom.AddDimension(dim2);\n",
    "var schema = new TileDB.CSharp.ArraySchema(ctx,TileDB.CSharp.ArrayType.Dense);\n",
    "schema.SetDomain(dom);\n",
    "var attr1 = new TileDB.CSharp.Attribute(ctx,\"a\",TileDB.CSharp.DataType.Int32);\n",
    "schema.AddAttribute(attr1);\n",
    "string array_uri = \"test_metadata_array\";\n",
    "var vfs = new TileDB.CSharp.VFS(ctx);\n",
    "if(vfs.IsDir(array_uri))\n",
    "{\n",
    "    vfs.RemoveDir(array_uri);\n",
    "}\n",
    "TileDB.CSharp.Array.Create(ctx,array_uri,schema);"
   ]
  },
  {
   "cell_type": "markdown",
   "metadata": {},
   "source": [
    "# Add metadata"
   ]
  },
  {
   "cell_type": "code",
   "execution_count": null,
   "metadata": {
    "dotnet_interactive": {
     "language": "csharp"
    }
   },
   "outputs": [],
   "source": [
    "using(var array_write = new TileDB.CSharp.Array(ctx,array_uri)) \n",
    "{\n",
    "    array_write.Open(TileDB.CSharp.QueryType.Write);\n",
    "    var int_metadata = new int[2] {1,100};\n",
    "    array_write.PutMetadata<int>(\"int_metadata\",int_metadata);\n",
    "    var double_metadata = new double[3] {1.0,100.0,1000.0};\n",
    "    array_write.PutMetadata<double>(\"double_metadata\", double_metadata);\n",
    "    array_write.PutMetadata(\"key1\",\"value1\");\n",
    "    array_write.PutMetadata(\"key2\",\"value2\");\n",
    "    array_write.PutMetadata(\"key3\",\"value3\");\n",
    "    array_write.Close();\n",
    "}"
   ]
  },
  {
   "cell_type": "markdown",
   "metadata": {},
   "source": [
    "# Get metadata"
   ]
  },
  {
   "cell_type": "code",
   "execution_count": null,
   "metadata": {
    "dotnet_interactive": {
     "language": "csharp"
    }
   },
   "outputs": [],
   "source": [
    "var array_read = new TileDB.CSharp.Array(ctx,array_uri);\n",
    "array_read.Open(TileDB.CSharp.QueryType.Read);"
   ]
  },
  {
   "cell_type": "markdown",
   "metadata": {},
   "source": [
    "## Get metadata from index"
   ]
  },
  {
   "cell_type": "code",
   "execution_count": null,
   "metadata": {
    "dotnet_interactive": {
     "language": "csharp"
    }
   },
   "outputs": [],
   "source": [
    "var metadata_num = array_read.MetadataNum();\n",
    "System.Console.WriteLine(\"number of metadata:{0}\",metadata_num);"
   ]
  },
  {
   "cell_type": "code",
   "execution_count": null,
   "metadata": {
    "dotnet_interactive": {
     "language": "csharp"
    }
   },
   "outputs": [],
   "source": [
    "var metadata_keys = array_read.MetadataKeys();\n",
    "System.Console.WriteLine(\"metadata keys:{0}\", String.Join(\" \", metadata_keys));"
   ]
  },
  {
   "cell_type": "code",
   "execution_count": null,
   "metadata": {
    "dotnet_interactive": {
     "language": "csharp"
    }
   },
   "outputs": [],
   "source": [
    "var (key0,data0) = array_read.GetMetadataFromIndex<double>(0);\n",
    "System.Console.WriteLine(\"key0:{0},data0:{1}\", key0, String.Join(\" \",data0));"
   ]
  },
  {
   "cell_type": "markdown",
   "metadata": {},
   "source": [
    "## Get metadata from key"
   ]
  },
  {
   "cell_type": "code",
   "execution_count": null,
   "metadata": {
    "dotnet_interactive": {
     "language": "csharp"
    }
   },
   "outputs": [],
   "source": [
    "var int_metadata = array_read.GetMetadata<int>(\"int_metadata\");\n",
    "System.Console.WriteLine(\"int_metadata:{0}\", String.Join(\" \", int_metadata));"
   ]
  },
  {
   "cell_type": "code",
   "execution_count": null,
   "metadata": {
    "dotnet_interactive": {
     "language": "csharp"
    }
   },
   "outputs": [],
   "source": [
    "var double_metadata = array_read.GetMetadata<double>(\"double_metadata\");\n",
    "System.Console.WriteLine(\"double_metadata:{0}\", String.Join(\" \", double_metadata));"
   ]
  },
  {
   "cell_type": "code",
   "execution_count": null,
   "metadata": {
    "dotnet_interactive": {
     "language": "csharp"
    }
   },
   "outputs": [],
   "source": [
    "var value3 = array_read.GetMetadata(\"key3\");\n",
    "System.Console.WriteLine(\"value3:{0}\", value3);"
   ]
  },
  {
   "cell_type": "code",
   "execution_count": null,
   "metadata": {
    "dotnet_interactive": {
     "language": "csharp"
    }
   },
   "outputs": [],
   "source": [
    "array_read.Close();"
   ]
  },
  {
   "cell_type": "markdown",
   "metadata": {},
   "source": [
    "# Clean up"
   ]
  },
  {
   "cell_type": "code",
   "execution_count": null,
   "metadata": {
    "dotnet_interactive": {
     "language": "csharp"
    }
   },
   "outputs": [],
   "source": [
    "if(vfs.IsDir(array_uri))\n",
    "{\n",
    "    vfs.RemoveDir(array_uri);\n",
    "}"
   ]
  }
 ],
 "metadata": {
  "kernelspec": {
   "display_name": ".NET (C#)",
   "language": "C#",
   "name": ".net-csharp"
  },
  "language_info": {
   "file_extension": ".cs",
   "mimetype": "text/x-csharp",
   "name": "C#",
   "pygments_lexer": "csharp",
   "version": "9.0"
  },
  "orig_nbformat": 2
 },
 "nbformat": 4,
 "nbformat_minor": 2
}