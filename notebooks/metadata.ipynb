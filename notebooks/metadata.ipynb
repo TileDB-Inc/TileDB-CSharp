{
 "cells": [
  {
   "cell_type": "code",
   "execution_count": null,
   "metadata": {
    "dotnet_interactive": {
     "language": "csharp"
    }
   },
   "outputs": [],
   "source": [
    "#r \"nuget:TileDB.CSharp\""
   ]
  },
  {
   "cell_type": "markdown",
   "metadata": {},
   "source": [
    "## Create an array"
   ]
  },
  {
   "cell_type": "code",
   "execution_count": null,
   "metadata": {
    "dotnet_interactive": {
     "language": "csharp"
    }
   },
   "outputs": [],
   "source": [
    "\n",
    "var ctx = new TileDB.Context();\n",
    "var dom = new TileDB.Domain(ctx);\n",
    "//add dimensions\n",
    "dom.add_int32_dimension(\"rows\",1,4,4);\n",
    "dom.add_int32_dimension(\"cols\",1,4,4);\n",
    "var schema = new TileDB.ArraySchema(ctx,TileDB.ArrayType.TILEDB_DENSE);\n",
    "schema.set_domain(dom);\n",
    "//add attribute\n",
    "var attr1 = TileDB.Attribute.create_attribute(ctx,\"a\",TileDB.DataType.TILEDB_INT32);\n",
    "schema.add_attribute(attr1);\n",
    "string array_uri = \"test_metadata_array\";\n",
    "var vfs = new TileDB.VFS(ctx);\n",
    "if(vfs.is_dir(array_uri))\n",
    "{\n",
    "    vfs.remove_dir(array_uri);\n",
    "\n",
    "}\n",
    "\n",
    "TileDB.Array.create(array_uri,schema);\n",
    "\n"
   ]
  },
  {
   "cell_type": "code",
   "execution_count": null,
   "metadata": {
    "dotnet_interactive": {
     "language": "csharp"
    }
   },
   "outputs": [],
   "source": [
    "// use ArrayUtil to get array_schema json string\n",
    "//var jsonstr = TileDB.ArrayUtil.get_array_schema_json_str(array_uri,ctx);\n",
    "//System.Console.WriteLine(\"{0}\",jsonstr);\n",
    "var j=TileDB.CoreUtil.GetArraySchemaJson(array_uri,ctx);\n",
    "System.Console.WriteLine(\"{0}\",j.ToString());\n"
   ]
  },
  {
   "cell_type": "markdown",
   "metadata": {},
   "source": [
    "## Add metadata"
   ]
  },
  {
   "cell_type": "code",
   "execution_count": null,
   "metadata": {
    "dotnet_interactive": {
     "language": "csharp"
    }
   },
   "outputs": [],
   "source": [
    "// add int metadata\n",
    "List<int> int_metadata = new List<int>() {1,100};\n",
    "TileDB.CoreUtil.AddArrayMetadataByList<int>(array_uri,\"int_metadata\",int_metadata,ctx);\n",
    "// add double metadata\n",
    "var double_metadata = new List<double>() {1.0,100.0,1000.0};\n",
    "TileDB.CoreUtil.AddArrayMetadataByList<double>(array_uri,\"double_metadata\", double_metadata,ctx);\n",
    "// add string key value pair \n",
    "TileDB.CoreUtil.AddArrayMetadataByStringKeyValue(array_uri,\"key1\",\"value1\",ctx);\n",
    "// add multiple string key value pairs \n",
    "var key_value_map = new System.Collections.Generic.Dictionary<string,string>();\n",
    "key_value_map[\"key2\"] = \"value2\";\n",
    "key_value_map[\"key3\"] = \"value3\";\n",
    "TileDB.CoreUtil.AddArrayMetadataByStringMap(array_uri,key_value_map,ctx);"
   ]
  },
  {
   "cell_type": "markdown",
   "metadata": {},
   "source": [
    "## Get metadata"
   ]
  },
  {
   "cell_type": "markdown",
   "metadata": {},
   "source": [
    "### get metadata from index"
   ]
  },
  {
   "cell_type": "code",
   "execution_count": null,
   "metadata": {
    "dotnet_interactive": {
     "language": "csharp"
    }
   },
   "outputs": [],
   "source": [
    "// get metadata json string from index\n",
    "//var metadata_jsonstr_0 = TileDB.ArrayUtil.get_array_metadata_json_str_from_index(array_uri,0,ctx);\n",
    "//System.Console.WriteLine(\"{0}\",metadata_jsonstr_0);\n",
    "var metadata_json = TileDB.CoreUtil.GetArrayMetadataJsonFromIndex(array_uri,0,ctx);\n",
    "System.Console.WriteLine(\"{0}\", metadata_json.ToString());\n"
   ]
  },
  {
   "cell_type": "markdown",
   "metadata": {},
   "source": [
    "### get metadata from key"
   ]
  },
  {
   "cell_type": "code",
   "execution_count": null,
   "metadata": {
    "dotnet_interactive": {
     "language": "csharp"
    }
   },
   "outputs": [],
   "source": [
    "// get metadata json string for key\n",
    "//var double_metadata_jsonstr = TileDB.ArrayUtil.get_array_metadata_json_str_for_key(array_uri,\"double_metadata\",ctx);\n",
    "//System.Console.WriteLine(\"{0}\",double_metadata_jsonstr);\n",
    "var double_metadata = TileDB.CoreUtil.GetArrayMetadataJsonForKey(array_uri,\"double_metadata\",ctx);\n",
    "System.Console.WriteLine(\"{0}\", double_metadata.ToString());\n",
    "var double_list = Newtonsoft.Json.JsonConvert.DeserializeObject<List<double>>(metadata_json[\"value\"].ToString());\n",
    "System.Console.WriteLine(\"type of double_list:{0}, value of double_list:{1}\",double_list.GetType(),string.Join(\",\",double_list));"
   ]
  },
  {
   "cell_type": "code",
   "execution_count": null,
   "metadata": {
    "dotnet_interactive": {
     "language": "csharp"
    }
   },
   "outputs": [],
   "source": [
    "// get string metadata\n",
    "var string_metadata = TileDB.CoreUtil.GetArrayMetadataJsonForKey(array_uri,\"key2\",ctx);\n",
    "System.Console.WriteLine(\"{0}\", string_metadata.ToString());\n",
    "// access key and value\n",
    "System.Console.WriteLine(\"{0}:{1}\",string_metadata[\"key\"],string_metadata[\"value\"]);\n"
   ]
  },
  {
   "cell_type": "markdown",
   "metadata": {},
   "source": [
    "### get all metadata"
   ]
  },
  {
   "cell_type": "code",
   "execution_count": null,
   "metadata": {
    "dotnet_interactive": {
     "language": "csharp"
    }
   },
   "outputs": [],
   "source": [
    "//get json string for all metadata\n",
    "//var metadata_jsonstr = TileDB.ArrayUtil.get_array_metadata_json_str(array_uri,ctx);\n",
    "//System.Console.WriteLine(\"{0}\",metadata_jsonstr);\n",
    "var metadata_json = TileDB.CoreUtil.GetArrayMetadataJson(array_uri,ctx);\n",
    "System.Console.WriteLine(\"{0}\", metadata_json.ToString());"
   ]
  },
  {
   "cell_type": "markdown",
   "metadata": {},
   "source": [
    "## Clean up"
   ]
  },
  {
   "cell_type": "code",
   "execution_count": null,
   "metadata": {
    "dotnet_interactive": {
     "language": "csharp"
    }
   },
   "outputs": [],
   "source": [
    "if(vfs.is_dir(array_uri))\n",
    "{\n",
    "    vfs.remove_dir(array_uri);\n",
    "}"
   ]
  }
 ],
 "metadata": {
  "kernelspec": {
   "display_name": ".NET (C#)",
   "language": "C#",
   "name": ".net-csharp"
  },
  "language_info": {
   "name": "C#"
  }
 },
 "nbformat": 4,
 "nbformat_minor": 2
}
