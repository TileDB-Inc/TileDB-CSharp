{
 "cells": [
  {
   "cell_type": "code",
   "execution_count": null,
   "metadata": {
    "dotnet_interactive": {
     "language": "csharp"
    }
   },
   "outputs": [],
   "source": [
    "#r \"nuget:TileDB.CSharp\""
   ]
  },
  {
   "cell_type": "markdown",
   "metadata": {},
   "source": [
    "## Create an array"
   ]
  },
  {
   "cell_type": "code",
   "execution_count": null,
   "metadata": {
    "dotnet_interactive": {
     "language": "csharp"
    }
   },
   "outputs": [],
   "source": [
    "\n",
    "using TileDB;  \n",
    "var ctx = new TileDB.Context();\n",
    "var dom = new TileDB.Domain(ctx);\n",
    "//add dimensions\n",
    "dom.add_int32_dimension(\"rows\",1,4,4);\n",
    "dom.add_int32_dimension(\"cols\",1,4,4);\n",
    "var schema = new TileDB.ArraySchema(ctx,TileDB.ArrayType.TILEDB_DENSE);\n",
    "schema.set_domain(dom);\n",
    "//add attribute\n",
    "var attr1 = TileDB.Attribute.create_attribute(ctx,\"a\",TileDB.DataType.TILEDB_INT32);\n",
    "schema.add_attribute(attr1);\n",
    "string array_uri = \"test_metadata_array\";\n",
    "var vfs = new TileDB.VFS(ctx);\n",
    "if(vfs.is_dir(array_uri))\n",
    "{\n",
    "    vfs.remove_dir(array_uri);\n",
    "\n",
    "}\n",
    "\n",
    "TileDB.Array.create(array_uri,schema);\n",
    "\n"
   ]
  },
  {
   "cell_type": "markdown",
   "metadata": {},
   "source": [
    "## Add metadata"
   ]
  },
  {
   "cell_type": "code",
   "execution_count": null,
   "metadata": {
    "dotnet_interactive": {
     "language": "csharp"
    }
   },
   "outputs": [],
   "source": [
    "using TileDB; //need it to use extension methods\n",
    "//if you donot use using statement block, please call array_write.close() at the end to materialize it on disk\n",
    "using (var array_write = new TileDB.Array(ctx,array_uri,TileDB.QueryType.TILEDB_WRITE))\n",
    "{\n",
    "    // add int metadata\n",
    "    List<int> int_metadata = new List<int>() {1,100};\n",
    "    array_write.AddArrayMetadataByList<int>(\"int_metadata\",int_metadata);\n",
    "    // add double metadata\n",
    "    var double_metadata = new List<double>() {1.0,100.0,1000.0};\n",
    "    array_write.AddArrayMetadataByList<double>(\"double_metadata\", double_metadata);\n",
    "    // add string key value pair \n",
    "    array_write.AddArrayMetadataByStringKeyValue(\"key1\",\"value1\");\n",
    "    // add multiple string key value pairs \n",
    "    var key_value_map = new System.Collections.Generic.Dictionary<string,string>();\n",
    "    key_value_map[\"key2\"] = \"value2\";\n",
    "    key_value_map[\"key3\"] = \"value3\";\n",
    "    array_write.AddArrayMetadataByStringMap(key_value_map);\n",
    "}\n",
    "\n"
   ]
  },
  {
   "cell_type": "markdown",
   "metadata": {},
   "source": [
    "## Get metadata"
   ]
  },
  {
   "cell_type": "markdown",
   "metadata": {},
   "source": [
    "### get metadata from index"
   ]
  },
  {
   "cell_type": "code",
   "execution_count": null,
   "metadata": {
    "dotnet_interactive": {
     "language": "csharp"
    }
   },
   "outputs": [],
   "source": [
    "var array_read = new TileDB.Array(ctx,array_uri,TileDB.QueryType.TILEDB_READ);\n",
    "var metadata_json = array_read.GetArrayMetadataJsonFromIndex(0);\n",
    "System.Console.WriteLine(\"{0}\", metadata_json.ToString());\n"
   ]
  },
  {
   "cell_type": "markdown",
   "metadata": {},
   "source": [
    "### get metadata from key"
   ]
  },
  {
   "cell_type": "code",
   "execution_count": null,
   "metadata": {
    "dotnet_interactive": {
     "language": "csharp"
    }
   },
   "outputs": [],
   "source": [
    " \n",
    "var double_metadata = array_read.GetArrayMetadataJsonForKey(\"double_metadata\");\n",
    "System.Console.WriteLine(\"{0}\", double_metadata.ToString());\n",
    "var double_list = Newtonsoft.Json.JsonConvert.DeserializeObject<List<double>>(metadata_json[\"value\"].ToString());\n",
    "System.Console.WriteLine(\"type of double_list:{0}, value of double_list:{1}\",double_list.GetType(),string.Join(\",\",double_list));"
   ]
  },
  {
   "cell_type": "code",
   "execution_count": null,
   "metadata": {
    "dotnet_interactive": {
     "language": "csharp"
    }
   },
   "outputs": [],
   "source": [
    "// get string metadata\n",
    "var string_metadata = array_read.GetArrayMetadataJsonForKey(\"key2\");\n",
    "System.Console.WriteLine(\"{0}\", string_metadata.ToString());\n",
    "// access key and value\n",
    "System.Console.WriteLine(\"{0}:{1}\",string_metadata[\"key\"],string_metadata[\"value\"]);\n"
   ]
  },
  {
   "cell_type": "markdown",
   "metadata": {},
   "source": [
    "### get all metadata"
   ]
  },
  {
   "cell_type": "code",
   "execution_count": null,
   "metadata": {
    "dotnet_interactive": {
     "language": "csharp"
    }
   },
   "outputs": [],
   "source": [
    " \n",
    "var metadata_json = array_read.GetArrayMetadataJson();\n",
    "System.Console.WriteLine(\"{0}\", metadata_json.ToString());"
   ]
  },
  {
   "cell_type": "markdown",
   "metadata": {},
   "source": [
    "## Clean up"
   ]
  },
  {
   "cell_type": "code",
   "execution_count": null,
   "metadata": {
    "dotnet_interactive": {
     "language": "csharp"
    }
   },
   "outputs": [],
   "source": [
    "if(vfs.is_dir(array_uri))\n",
    "{\n",
    "    vfs.remove_dir(array_uri);\n",
    "}"
   ]
  }
 ],
 "metadata": {
  "kernelspec": {
   "display_name": ".NET (C#)",
   "language": "C#",
   "name": ".net-csharp"
  },
  "language_info": {
   "name": "C#"
  }
 },
 "nbformat": 4,
 "nbformat_minor": 2
}
