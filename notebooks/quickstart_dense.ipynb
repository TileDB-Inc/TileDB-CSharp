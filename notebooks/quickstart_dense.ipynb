{
 "cells": [
  {
   "cell_type": "markdown",
   "metadata": {},
   "source": [
    "# Install TileDB.CSharp nuget package"
   ]
  },
  {
   "cell_type": "code",
   "execution_count": null,
   "metadata": {
    "dotnet_interactive": {
     "language": "csharp"
    }
   },
   "outputs": [],
   "source": [
    "#r \"nuget:TileDB.CSharp\""
   ]
  },
  {
   "cell_type": "markdown",
   "metadata": {},
   "source": [
    "# Create a dense array"
   ]
  },
  {
   "cell_type": "markdown",
   "metadata": {},
   "source": [
    "## Create dimensions"
   ]
  },
  {
   "cell_type": "code",
   "execution_count": null,
   "metadata": {
    "dotnet_interactive": {
     "language": "csharp"
    }
   },
   "outputs": [],
   "source": [
    "var ctx = TileDB.CSharp.Context.GetDefault();\n",
    "var dom = new TileDB.CSharp.Domain(ctx);\n",
    "var dim1 = TileDB.CSharp.Dimension.Create<int>(ctx,\"rows\",1,4,4);\n",
    "var dim2 = TileDB.CSharp.Dimension.Create<int>(ctx,\"cols\",1,4,4);\n",
    "dom.AddDimension(dim1);\n",
    "dom.AddDimension(dim2);"
   ]
  },
  {
   "cell_type": "markdown",
   "metadata": {},
   "source": [
    "## Create schema"
   ]
  },
  {
   "cell_type": "code",
   "execution_count": null,
   "metadata": {
    "dotnet_interactive": {
     "language": "csharp"
    }
   },
   "outputs": [],
   "source": [
    "var schema = new TileDB.CSharp.ArraySchema(ctx,TileDB.CSharp.ArrayType.Dense);\n",
    "schema.SetDomain(dom);\n",
    "var attr1 = new TileDB.CSharp.Attribute(ctx,\"a\",TileDB.CSharp.DataType.Int32);\n",
    "schema.AddAttribute(attr1);"
   ]
  },
  {
   "cell_type": "markdown",
   "metadata": {},
   "source": [
    "## Delete the array if it exists"
   ]
  },
  {
   "cell_type": "code",
   "execution_count": null,
   "metadata": {
    "dotnet_interactive": {
     "language": "csharp"
    }
   },
   "outputs": [],
   "source": [
    "string array_uri = \"test_dense_array\";\n",
    "var vfs = new TileDB.CSharp.VFS(ctx);\n",
    "if(vfs.IsDir(array_uri))\n",
    "{\n",
    "    vfs.RemoveDir(array_uri);\n",
    "}"
   ]
  },
  {
   "cell_type": "markdown",
   "metadata": {},
   "source": [
    "## Create array"
   ]
  },
  {
   "cell_type": "code",
   "execution_count": null,
   "metadata": {
    "dotnet_interactive": {
     "language": "csharp"
    }
   },
   "outputs": [],
   "source": [
    "TileDB.CSharp.Array.Create(ctx,array_uri,schema);"
   ]
  },
  {
   "cell_type": "markdown",
   "metadata": {},
   "source": [
    "# Write the array"
   ]
  },
  {
   "cell_type": "markdown",
   "metadata": {},
   "source": [
    "## Initialize the data to write"
   ]
  },
  {
   "cell_type": "code",
   "execution_count": null,
   "metadata": {
    "dotnet_interactive": {
     "language": "csharp"
    }
   },
   "outputs": [],
   "source": [
    "var data = new int[16];\n",
    "for(int i=0;i<data.Length;++i)\n",
    "{\n",
    "    data[i] = i+1;\n",
    "}"
   ]
  },
  {
   "cell_type": "markdown",
   "metadata": {},
   "source": [
    "## Open the array for write"
   ]
  },
  {
   "cell_type": "code",
   "execution_count": null,
   "metadata": {
    "dotnet_interactive": {
     "language": "csharp"
    }
   },
   "outputs": [],
   "source": [
    "using (var array_write = new TileDB.CSharp.Array(ctx,array_uri)) {\n",
    "  array_write.Open(TileDB.CSharp.QueryType.Write);\n",
    "  var query_write = new TileDB.CSharp.Query(ctx,array_write);\n",
    "  query_write.SetLayout(TileDB.CSharp.LayoutType.RowMajor);\n",
    "  query_write.SetDataBuffer<int>(\"a\",data);\n",
    "  query_write.Submit();\n",
    "  array_write.Close();\n",
    "}"
   ]
  },
  {
   "cell_type": "markdown",
   "metadata": {},
   "source": [
    "# Read the array"
   ]
  },
  {
   "cell_type": "markdown",
   "metadata": {},
   "source": [
    "## Initialize subarray and read_data"
   ]
  },
  {
   "cell_type": "code",
   "execution_count": null,
   "metadata": {
    "dotnet_interactive": {
     "language": "csharp"
    }
   },
   "outputs": [],
   "source": [
    "var subarray = new int[4] {1,2,2,4};\n",
    "var data_read = new int[6];"
   ]
  },
  {
   "cell_type": "markdown",
   "metadata": {},
   "source": [
    "## Open array and read"
   ]
  },
  {
   "cell_type": "code",
   "execution_count": null,
   "metadata": {
    "dotnet_interactive": {
     "language": "csharp"
    }
   },
   "outputs": [],
   "source": [
    "using (var array_read = new TileDB.CSharp.Array(ctx,array_uri)) \n",
    "{\n",
    "    array_read.Open(TileDB.CSharp.QueryType.Read);\n",
    "    var query_read = new TileDB.CSharp.Query(ctx,array_read);\n",
    "    query_read.SetLayout(TileDB.CSharp.LayoutType.RowMajor);\n",
    "    query_read.SetSubarray<int>(subarray);\n",
    "    query_read.SetDataBuffer<int>(\"a\",data_read);\n",
    "    query_read.Submit();\n",
    "    array_read.Close();\n",
    "}"
   ]
  },
  {
   "cell_type": "markdown",
   "metadata": {},
   "source": [
    "## Print query result"
   ]
  },
  {
   "cell_type": "code",
   "execution_count": null,
   "metadata": {
    "dotnet_interactive": {
     "language": "csharp"
    }
   },
   "outputs": [],
   "source": [
    "System.Console.WriteLine(\"query result:\");\n",
    "System.Console.WriteLine(String.Join(\" \", data_read));"
   ]
  },
  {
   "cell_type": "markdown",
   "metadata": {},
   "source": [
    "# Clean up"
   ]
  },
  {
   "cell_type": "code",
   "execution_count": null,
   "metadata": {
    "dotnet_interactive": {
     "language": "csharp"
    }
   },
   "outputs": [],
   "source": [
    "if(vfs.IsDir(array_uri))\n",
    "{\n",
    "    vfs.RemoveDir(array_uri);\n",
    "}"
   ]
  }
 ],
 "metadata": {
  "kernelspec": {
   "display_name": ".NET (C#)",
   "language": "C#",
   "name": ".net-csharp"
  },
  "language_info": {
   "file_extension": ".cs",
   "mimetype": "text/x-csharp",
   "name": "C#",
   "pygments_lexer": "csharp",
   "version": "9.0"
  },
  "orig_nbformat": 2
 },
 "nbformat": 4,
 "nbformat_minor": 2
}