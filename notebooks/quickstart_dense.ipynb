{
 "cells": [
  {
   "cell_type": "markdown",
   "metadata": {},
   "source": [
    "## Install TileDB.CSharp nuget package"
   ]
  },
  {
   "cell_type": "code",
   "execution_count": null,
   "metadata": {
    "dotnet_interactive": {
     "language": "csharp"
    }
   },
   "outputs": [
    {
     "data": {
      "text/html": [
       "<div><div></div><div></div><div><strong>Installed Packages</strong><ul><li><span>TileDB.CSharp, 2.4.6</span></li></ul></div></div>"
      ]
     },
     "metadata": {},
     "output_type": "display_data"
    }
   ],
   "source": [
    "#r \"nuget:TileDB.CSharp\""
   ]
  },
  {
   "cell_type": "markdown",
   "metadata": {},
   "source": [
    "### Print out the tiledb core lib version"
   ]
  },
  {
   "cell_type": "code",
   "execution_count": null,
   "metadata": {
    "dotnet_interactive": {
     "language": "csharp"
    }
   },
   "outputs": [
    {
     "name": "stdout",
     "output_type": "stream",
     "text": [
      "tiledb core version:2.4.4\r\n"
     ]
    }
   ],
   "source": [
    "System.Console.WriteLine(\"tiledb core version:{0}\", TileDB.ArrayUtil.get_tiledb_version());"
   ]
  },
  {
   "cell_type": "markdown",
   "metadata": {},
   "source": [
    "## Create a dense array"
   ]
  },
  {
   "cell_type": "markdown",
   "metadata": {},
   "source": [
    "### Create dimensions"
   ]
  },
  {
   "cell_type": "code",
   "execution_count": null,
   "metadata": {
    "dotnet_interactive": {
     "language": "csharp"
    }
   },
   "outputs": [],
   "source": [
    "var ctx = new TileDB.Context();\n",
    "var dom = new TileDB.Domain(ctx);\n",
    "dom.add_int32_dimension(\"rows\",1,4,4);\n",
    "dom.add_int32_dimension(\"cols\",1,4,4);"
   ]
  },
  {
   "cell_type": "markdown",
   "metadata": {},
   "source": [
    "### Create the schema"
   ]
  },
  {
   "cell_type": "code",
   "execution_count": null,
   "metadata": {
    "dotnet_interactive": {
     "language": "csharp"
    }
   },
   "outputs": [],
   "source": [
    "var schema = new TileDB.ArraySchema(ctx,TileDB.ArrayType.TILEDB_DENSE);\n",
    "schema.set_domain(dom);\n",
    "var attr1 = TileDB.Attribute.create_attribute(ctx,\"a\",TileDB.DataType.TILEDB_INT32);\n",
    "schema.add_attribute(attr1);"
   ]
  },
  {
   "cell_type": "markdown",
   "metadata": {},
   "source": [
    "### Delete the array if it exists"
   ]
  },
  {
   "cell_type": "code",
   "execution_count": null,
   "metadata": {
    "dotnet_interactive": {
     "language": "csharp"
    }
   },
   "outputs": [],
   "source": [
    "string array_uri = \"test_dense_array\";\n",
    "var vfs = new TileDB.VFS(ctx);\n",
    "if(vfs.is_dir(array_uri))\n",
    "{\n",
    "    vfs.remove_dir(array_uri);\n",
    "\n",
    "}"
   ]
  },
  {
   "cell_type": "markdown",
   "metadata": {},
   "source": [
    "### Create the array"
   ]
  },
  {
   "cell_type": "code",
   "execution_count": null,
   "metadata": {
    "dotnet_interactive": {
     "language": "csharp"
    }
   },
   "outputs": [],
   "source": [
    "TileDB.Array.create(array_uri,schema);"
   ]
  },
  {
   "cell_type": "markdown",
   "metadata": {},
   "source": [
    "## Write the dense array"
   ]
  },
  {
   "cell_type": "markdown",
   "metadata": {},
   "source": [
    "### Initialize the data to write"
   ]
  },
  {
   "cell_type": "code",
   "execution_count": null,
   "metadata": {
    "dotnet_interactive": {
     "language": "csharp"
    }
   },
   "outputs": [],
   "source": [
    "var data = new TileDB.VectorInt32();\n",
    "for(int i=1; i<=16; ++i) {\n",
    "    data.Add(i);\n",
    "}"
   ]
  },
  {
   "cell_type": "markdown",
   "metadata": {},
   "source": [
    "### Open the array for write"
   ]
  },
  {
   "cell_type": "code",
   "execution_count": null,
   "metadata": {
    "dotnet_interactive": {
     "language": "csharp"
    }
   },
   "outputs": [
    {
     "name": "stdout",
     "output_type": "stream",
     "text": [
      "write status:TILEDB_COMPLETED\r\n"
     ]
    }
   ],
   "source": [
    "var array = new TileDB.Array(ctx,array_uri,TileDB.QueryType.TILEDB_WRITE);\n",
    "var query = new TileDB.Query(ctx,array,TileDB.QueryType.TILEDB_WRITE);\n",
    "query.set_layout(TileDB.LayoutType.TILEDB_ROW_MAJOR);\n",
    "query.set_int32_vector_buffer(\"a\",data);\n",
    "var status = query.submit();\n",
    "array.close();\n",
    "System.Console.WriteLine(\"write status:{0}\",status);"
   ]
  },
  {
   "cell_type": "markdown",
   "metadata": {},
   "source": [
    "## Read the array"
   ]
  },
  {
   "cell_type": "markdown",
   "metadata": {},
   "source": [
    "### Set the subarray"
   ]
  },
  {
   "cell_type": "code",
   "execution_count": null,
   "metadata": {
    "dotnet_interactive": {
     "language": "csharp"
    }
   },
   "outputs": [],
   "source": [
    "var subarray = new TileDB.VectorInt32();\n",
    "subarray.Add(1);\n",
    "subarray.Add(2); //rows 1,2\n",
    "subarray.Add(2);\n",
    "subarray.Add(4);//cols 2,3,4"
   ]
  },
  {
   "cell_type": "markdown",
   "metadata": {},
   "source": [
    "### Initialize a read buffer, Note that here we use Repeat method"
   ]
  },
  {
   "cell_type": "code",
   "execution_count": null,
   "metadata": {
    "dotnet_interactive": {
     "language": "csharp"
    }
   },
   "outputs": [],
   "source": [
    "var read_data = TileDB.VectorInt32.Repeat(0,6); //hold 6 int values"
   ]
  },
  {
   "cell_type": "markdown",
   "metadata": {},
   "source": [
    "### Open the array and read"
   ]
  },
  {
   "cell_type": "code",
   "execution_count": null,
   "metadata": {
    "dotnet_interactive": {
     "language": "csharp"
    }
   },
   "outputs": [
    {
     "name": "stdout",
     "output_type": "stream",
     "text": [
      "read status:TILEDB_COMPLETED\r\n"
     ]
    }
   ],
   "source": [
    "var array_read = new TileDB.Array(ctx,array_uri,TileDB.QueryType.TILEDB_READ);\n",
    "var query_read = new TileDB.Query(ctx,array_read,TileDB.QueryType.TILEDB_READ);\n",
    "query_read.set_layout(TileDB.LayoutType.TILEDB_ROW_MAJOR);\n",
    "query_read.set_int32_subarray(subarray);\n",
    "query_read.set_int32_vector_buffer(\"a\",read_data);\n",
    "var status_read = query_read.submit();\n",
    "array_read.close();\n",
    "System.Console.WriteLine(\"read status:{0}\", status_read);"
   ]
  },
  {
   "cell_type": "markdown",
   "metadata": {},
   "source": [
    "### Print query result"
   ]
  },
  {
   "cell_type": "code",
   "execution_count": null,
   "metadata": {
    "dotnet_interactive": {
     "language": "csharp"
    }
   },
   "outputs": [
    {
     "name": "stdout",
     "output_type": "stream",
     "text": [
      "query result:\r\n",
      "2 3 4 6 7 8\r\n"
     ]
    }
   ],
   "source": [
    "System.Console.WriteLine(\"query result:\");\n",
    "System.Console.WriteLine(String.Join(\" \",read_data))"
   ]
  },
  {
   "cell_type": "markdown",
   "metadata": {},
   "source": [
    "## Clean up"
   ]
  },
  {
   "cell_type": "code",
   "execution_count": null,
   "metadata": {
    "dotnet_interactive": {
     "language": "csharp"
    }
   },
   "outputs": [],
   "source": [
    "if(vfs.is_dir(array_uri))\n",
    "{\n",
    "    vfs.remove_dir(array_uri);\n",
    "\n",
    "}"
   ]
  }
 ],
 "metadata": {
  "kernelspec": {
   "display_name": ".NET (C#)",
   "language": "C#",
   "name": ".net-csharp"
  },
  "language_info": {
   "name": "C#"
  }
 },
 "nbformat": 4,
 "nbformat_minor": 2
}
