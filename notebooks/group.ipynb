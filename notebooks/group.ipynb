{
 "cells": [
  {
   "cell_type": "markdown",
   "metadata": {},
   "source": [
    "# Install TileDB.CSharp"
   ]
  },
  {
   "cell_type": "code",
   "execution_count": null,
   "metadata": {
    "dotnet_interactive": {
     "language": "csharp"
    }
   },
   "outputs": [],
   "source": [
    "#r \"nuget:TileDB.CSharp\""
   ]
  },
  {
   "cell_type": "code",
   "execution_count": null,
   "metadata": {
    "dotnet_interactive": {
     "language": "csharp"
    }
   },
   "outputs": [],
   "source": [
    "using TileDB.CSharp;"
   ]
  },
  {
   "cell_type": "markdown",
   "metadata": {},
   "source": [
    "# Helper class"
   ]
  },
  {
   "cell_type": "code",
   "execution_count": null,
   "metadata": {
    "dotnet_interactive": {
     "language": "csharp"
    }
   },
   "outputs": [],
   "source": [
    "using System;\n",
    "using System.IO;\n",
    "public class Helper {\n",
    "\n",
    "    public static void CreateTestArray(string uri)\n",
    "    {\n",
    "        string tmpArrayPath = uri;\n",
    "        if (System.IO.Directory.Exists(tmpArrayPath))\n",
    "        {\n",
    "            System.IO.Directory.Delete(tmpArrayPath, true);\n",
    "        }\n",
    "\n",
    "        var context = TileDB.CSharp.Context.GetDefault();\n",
    "        var domain = new TileDB.CSharp.Domain(context);\n",
    "\n",
    "        var dim_1 = TileDB.CSharp.Dimension.Create(context, \"d1\", new[] { 1, 1 }, 1);\n",
    "        domain.AddDimension(dim_1);\n",
    "\n",
    "        var array_schema = new TileDB.CSharp.ArraySchema(context, TileDB.CSharp.ArrayType.Dense);\n",
    "\n",
    "        var attr1 = new TileDB.CSharp.Attribute(context, \"a1\", TileDB.CSharp.DataType.Float32);\n",
    "        array_schema.AddAttribute(attr1);\n",
    "\n",
    "        array_schema.SetDomain(domain);\n",
    "        array_schema.SetCellOrder(TileDB.CSharp.LayoutType.RowMajor);\n",
    "        array_schema.SetTileOrder(TileDB.CSharp.LayoutType.RowMajor);\n",
    "\n",
    "        array_schema.Check();\n",
    "\n",
    "        TileDB.CSharp.Array.Create(context, tmpArrayPath, array_schema);\n",
    "    }\n",
    "}"
   ]
  },
  {
   "cell_type": "markdown",
   "metadata": {},
   "source": [
    "# Group "
   ]
  },
  {
   "cell_type": "markdown",
   "metadata": {},
   "source": [
    "## Create temp directory"
   ]
  },
  {
   "cell_type": "code",
   "execution_count": null,
   "metadata": {
    "dotnet_interactive": {
     "language": "csharp"
    }
   },
   "outputs": [],
   "source": [
    "var ctx=TileDB.CSharp.Context.GetDefault();\n",
    "var temp_dir = System.IO.Path.Combine(System.IO.Directory.GetCurrentDirectory(),\"tiledb_test_group\");\n",
    "using(var vfs = new TileDB.CSharp.VFS(ctx)) {\n",
    "    if(vfs.IsDir(temp_dir))\n",
    "    {\n",
    "        vfs.RemoveDir(temp_dir);\n",
    "    }\n",
    "    vfs.CreateDir(temp_dir);\n",
    "}"
   ]
  },
  {
   "cell_type": "markdown",
   "metadata": {},
   "source": [
    "## Create arrays and groups"
   ]
  },
  {
   "cell_type": "code",
   "execution_count": null,
   "metadata": {
    "dotnet_interactive": {
     "language": "csharp"
    }
   },
   "outputs": [],
   "source": [
    "string array1_uri = System.IO.Path.Combine(temp_dir,\"array1\");\n",
    "string array2_uri = System.IO.Path.Combine(temp_dir,\"array2\");\n",
    "string array3_uri = System.IO.Path.Combine(temp_dir,\"array3\");\n",
    "Helper.CreateTestArray(array1_uri);\n",
    "Helper.CreateTestArray(array2_uri);\n",
    "Helper.CreateTestArray(array3_uri);\n",
    "string group1_uri = System.IO.Path.Combine(temp_dir,\"group1\");\n",
    "string group2_uri = System.IO.Path.Combine(temp_dir,\"group2\");\n",
    "TileDB.CSharp.Group.Create(ctx,group1_uri);\n",
    "TileDB.CSharp.Group.Create(ctx,group2_uri);"
   ]
  },
  {
   "cell_type": "markdown",
   "metadata": {},
   "source": [
    "## Add members to groups"
   ]
  },
  {
   "cell_type": "code",
   "execution_count": null,
   "metadata": {
    "dotnet_interactive": {
     "language": "csharp"
    }
   },
   "outputs": [],
   "source": [
    "var group1 = new TileDB.CSharp.Group(ctx,group1_uri);\n",
    "group1.Open(TileDB.CSharp.QueryType.Write);\n",
    "var group2 = new TileDB.CSharp.Group(ctx,group2_uri);\n",
    "group2.Open(TileDB.CSharp.QueryType.Write);\n",
    "group1.AddMember(array1_uri,false);\n",
    "group1.AddMember(array2_uri,false);\n",
    "group2.AddMember(array3_uri,false);\n",
    "group1.Close();\n",
    "group2.Close();"
   ]
  },
  {
   "cell_type": "markdown",
   "metadata": {},
   "source": [
    "## Group metadata"
   ]
  },
  {
   "cell_type": "code",
   "execution_count": null,
   "metadata": {
    "dotnet_interactive": {
     "language": "csharp"
    }
   },
   "outputs": [],
   "source": [
    "var group = new TileDB.CSharp.Group(ctx,group1_uri);\n",
    "group.Open(TileDB.CSharp.QueryType.Write);\n",
    "group.PutMetadata<int>(\"key1\",10);\n",
    "group.Close();\n",
    "group.Open(TileDB.CSharp.QueryType.Read);\n",
    "var v1 = group.GetMetadata<int>(\"key1\");\n",
    "System.Console.WriteLine(\"v1:{0}\", v1);"
   ]
  }
 ],
 "metadata": {
  "kernelspec": {
   "display_name": ".NET (C#)",
   "language": "C#",
   "name": ".net-csharp"
  },
  "language_info": {
   "file_extension": ".cs",
   "mimetype": "text/x-csharp",
   "name": "C#",
   "pygments_lexer": "csharp",
   "version": "9.0"
  },
  "orig_nbformat": 2
 },
 "nbformat": 4,
 "nbformat_minor": 2
}